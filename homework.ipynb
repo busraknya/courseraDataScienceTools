{
 "cells": [
  {
   "cell_type": "code",
   "execution_count": 10,
   "id": "099ef1b9",
   "metadata": {},
   "outputs": [
    {
     "name": "stdout",
     "output_type": "stream",
     "text": [
      "Requirement already satisfied: yfinance in c:\\users\\lenovo\\appdata\\roaming\\python\\python39\\site-packages (0.2.31)\n",
      "Requirement already satisfied: multitasking>=0.0.7 in c:\\users\\lenovo\\anaconda3\\lib\\site-packages (from yfinance) (0.0.11)\n",
      "Requirement already satisfied: lxml>=4.9.1 in c:\\users\\lenovo\\anaconda3\\lib\\site-packages (from yfinance) (4.9.3)\n",
      "Requirement already satisfied: peewee>=3.16.2 in c:\\users\\lenovo\\anaconda3\\lib\\site-packages (from yfinance) (3.17.0)\n",
      "Requirement already satisfied: frozendict>=2.3.4 in c:\\users\\lenovo\\appdata\\roaming\\python\\python39\\site-packages (from yfinance) (2.3.8)\n",
      "Requirement already satisfied: html5lib>=1.1 in c:\\users\\lenovo\\appdata\\roaming\\python\\python39\\site-packages (from yfinance) (1.1)\n",
      "Requirement already satisfied: beautifulsoup4>=4.11.1 in c:\\users\\lenovo\\anaconda3\\lib\\site-packages (from yfinance) (4.11.1)\n",
      "Requirement already satisfied: numpy>=1.16.5 in c:\\users\\lenovo\\anaconda3\\lib\\site-packages (from yfinance) (1.21.5)\n",
      "Requirement already satisfied: pytz>=2022.5 in c:\\users\\lenovo\\anaconda3\\lib\\site-packages (from yfinance) (2023.3.post1)\n",
      "Requirement already satisfied: appdirs>=1.4.4 in c:\\users\\lenovo\\anaconda3\\lib\\site-packages (from yfinance) (1.4.4)\n",
      "Requirement already satisfied: requests>=2.31 in c:\\users\\lenovo\\anaconda3\\lib\\site-packages (from yfinance) (2.31.0)\n",
      "Requirement already satisfied: pandas>=1.3.0 in c:\\users\\lenovo\\anaconda3\\lib\\site-packages (from yfinance) (1.4.2)\n",
      "Requirement already satisfied: soupsieve>1.2 in c:\\users\\lenovo\\anaconda3\\lib\\site-packages (from beautifulsoup4>=4.11.1->yfinance) (2.3.1)\n",
      "Requirement already satisfied: six>=1.9 in c:\\users\\lenovo\\anaconda3\\lib\\site-packages (from html5lib>=1.1->yfinance) (1.16.0)\n",
      "Requirement already satisfied: webencodings in c:\\users\\lenovo\\anaconda3\\lib\\site-packages (from html5lib>=1.1->yfinance) (0.5.1)\n",
      "Requirement already satisfied: python-dateutil>=2.8.1 in c:\\users\\lenovo\\anaconda3\\lib\\site-packages (from pandas>=1.3.0->yfinance) (2.8.2)\n",
      "Requirement already satisfied: idna<4,>=2.5 in c:\\users\\lenovo\\anaconda3\\lib\\site-packages (from requests>=2.31->yfinance) (3.3)\n",
      "Requirement already satisfied: certifi>=2017.4.17 in c:\\users\\lenovo\\anaconda3\\lib\\site-packages (from requests>=2.31->yfinance) (2021.10.8)\n",
      "Requirement already satisfied: urllib3<3,>=1.21.1 in c:\\users\\lenovo\\anaconda3\\lib\\site-packages (from requests>=2.31->yfinance) (1.26.9)\n",
      "Requirement already satisfied: charset-normalizer<4,>=2 in c:\\users\\lenovo\\anaconda3\\lib\\site-packages (from requests>=2.31->yfinance) (2.0.4)\n"
     ]
    }
   ],
   "source": [
    "!pip install --user --no-warn-script-location yfinance\n"
   ]
  },
  {
   "cell_type": "code",
   "execution_count": 11,
   "id": "efa7e147",
   "metadata": {},
   "outputs": [],
   "source": [
    "import yfinance as yf"
   ]
  },
  {
   "cell_type": "code",
   "execution_count": 12,
   "id": "15297b24",
   "metadata": {},
   "outputs": [
    {
     "name": "stdout",
     "output_type": "stream",
     "text": [
      "[*********************100%%**********************]  1 of 1 completed\n"
     ]
    }
   ],
   "source": [
    "# Tesla'nın hisse senedi verilerini çekme\n",
    "tesla_data = yf.download(\"TSLA\", start=\"2022-01-01\", end=\"2023-01-01\")"
   ]
  },
  {
   "cell_type": "code",
   "execution_count": 13,
   "id": "9c0950b3",
   "metadata": {},
   "outputs": [
    {
     "name": "stdout",
     "output_type": "stream",
     "text": [
      "                  Open        High         Low       Close   Adj Close  \\\n",
      "Date                                                                     \n",
      "2022-01-03  382.583344  400.356659  378.679993  399.926666  399.926666   \n",
      "2022-01-04  396.516663  402.666656  374.350006  383.196655  383.196655   \n",
      "2022-01-05  382.216675  390.113342  360.336670  362.706665  362.706665   \n",
      "2022-01-06  359.000000  362.666656  340.166656  354.899994  354.899994   \n",
      "2022-01-07  360.123322  360.309998  336.666656  342.320007  342.320007   \n",
      "\n",
      "               Volume  \n",
      "Date                   \n",
      "2022-01-03  103931400  \n",
      "2022-01-04  100248300  \n",
      "2022-01-05   80119800  \n",
      "2022-01-06   90336600  \n",
      "2022-01-07   84164700  \n"
     ]
    }
   ],
   "source": [
    "# Oluşturulan veri çerçevesini gösterme\n",
    "print(tesla_data.head())"
   ]
  },
  {
   "cell_type": "code",
   "execution_count": 16,
   "id": "ce127129",
   "metadata": {},
   "outputs": [],
   "source": [
    "import requests\n",
    "from bs4 import BeautifulSoup"
   ]
  },
  {
   "cell_type": "code",
   "execution_count": 20,
   "id": "04bec584",
   "metadata": {},
   "outputs": [],
   "source": [
    "# Tesla'nın gelir verilerini çekeceğimiz URL\n",
    "url = \"https://cf-courses-data.s3.us.cloud-object-storage.appdomain.cloud/IBMDeveloperSkillsNetwork-PY0220EN-SkillsNetwork/labs/project/revenue.htm\""
   ]
  },
  {
   "cell_type": "code",
   "execution_count": 21,
   "id": "45cfca6b",
   "metadata": {},
   "outputs": [],
   "source": [
    "# URL'den sayfa içeriğini çekme\n",
    "response = requests.get(url)\n",
    "soup = BeautifulSoup(response.content, \"html.parser\")\n"
   ]
  },
  {
   "cell_type": "code",
   "execution_count": 22,
   "id": "ac321cc6",
   "metadata": {},
   "outputs": [
    {
     "name": "stdout",
     "output_type": "stream",
     "text": [
      "None\n"
     ]
    }
   ],
   "source": [
    "\n",
    "# Gerekli veriyi çekme (örneğin, gelir tablosundaki verileri çekebilirsiniz)\n",
    "gelir_tablosu = soup.find(\"table\", {\"class\": \"gelir-tablosu\"})\n",
    "print(gelir_tablosu)"
   ]
  },
  {
   "cell_type": "code",
   "execution_count": null,
   "id": "5cb09bec",
   "metadata": {},
   "outputs": [],
   "source": []
  }
 ],
 "metadata": {
  "kernelspec": {
   "display_name": "Python 3 (ipykernel)",
   "language": "python",
   "name": "python3"
  },
  "language_info": {
   "codemirror_mode": {
    "name": "ipython",
    "version": 3
   },
   "file_extension": ".py",
   "mimetype": "text/x-python",
   "name": "python",
   "nbconvert_exporter": "python",
   "pygments_lexer": "ipython3",
   "version": "3.9.12"
  }
 },
 "nbformat": 4,
 "nbformat_minor": 5
}
